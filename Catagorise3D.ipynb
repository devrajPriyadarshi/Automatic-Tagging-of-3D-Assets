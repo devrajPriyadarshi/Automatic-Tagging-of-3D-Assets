{
  "metadata": {
    "kernelspec": {
      "language": "python",
      "display_name": "Python 3",
      "name": "python3"
    },
    "language_info": {
      "name": "python",
      "version": "3.7.12",
      "mimetype": "text/x-python",
      "codemirror_mode": {
        "name": "ipython",
        "version": 3
      },
      "pygments_lexer": "ipython3",
      "nbconvert_exporter": "python",
      "file_extension": ".py"
    },
    "colab": {
      "name": "Catagorise3D.ipynb",
      "provenance": [],
      "collapsed_sections": [],
      "include_colab_link": true
    }
  },
  "nbformat_minor": 0,
  "nbformat": 4,
  "cells": [
    {
      "cell_type": "markdown",
      "metadata": {
        "id": "view-in-github",
        "colab_type": "text"
      },
      "source": [
        "<a href=\"https://colab.research.google.com/github/devrajPriyadarshi/Automatic-Tagging-of-3D-Assets/blob/main/Catagorise3D.ipynb\" target=\"_parent\"><img src=\"https://colab.research.google.com/assets/colab-badge.svg\" alt=\"Open In Colab\"/></a>"
      ]
    },
    {
      "cell_type": "code",
      "source": [
        "# Uncomment when running in Google Colab\n",
        "# !pip install trimesh\n",
        "import os\n",
        "import trimesh\n",
        "import numpy as np\n",
        "import pandas as pd\n",
        "import tensorflow as tf\n",
        "from tensorflow import keras\n",
        "from tensorflow.keras import layers\n",
        "from matplotlib import pyplot as plt\n",
        "from keras.models import load_model\n",
        "from trimesh import transformations"
      ],
      "metadata": {
        "id": "CYxa7a4KxBKJ",
        "execution": {
          "iopub.status.busy": "2022-08-01T00:39:02.143591Z",
          "iopub.execute_input": "2022-08-01T00:39:02.144045Z",
          "iopub.status.idle": "2022-08-01T00:39:13.203657Z",
          "shell.execute_reply.started": "2022-08-01T00:39:02.143974Z",
          "shell.execute_reply": "2022-08-01T00:39:13.202235Z"
        },
        "trusted": true
      },
      "execution_count": null,
      "outputs": []
    },
    {
      "cell_type": "code",
      "source": [
        "class OrthogonalRegularizer(keras.regularizers.Regularizer):\n",
        "    def __init__(self, num_features, l2reg=0.001):\n",
        "        self.num_features = num_features\n",
        "        self.l2reg = l2reg\n",
        "        self.eye = tf.eye(num_features)\n",
        "\n",
        "    def __call__(self, x):\n",
        "        x = tf.reshape(x, (-1, self.num_features, self.num_features))\n",
        "        xxt = tf.tensordot(x, x, axes=(2, 2))\n",
        "        xxt = tf.reshape(xxt, (-1, self.num_features, self.num_features))\n",
        "        return tf.reduce_sum(self.l2reg * tf.square(xxt - self.eye))\n",
        "\n",
        "    def get_config(self):\n",
        "        return {  'num_features': self.num_features,\n",
        "                  'l2reg': self.l2reg\n",
        "                }\n"
      ],
      "metadata": {
        "id": "Csg2CtgUGegO",
        "execution": {
          "iopub.status.busy": "2022-07-31T22:31:37.726998Z",
          "iopub.execute_input": "2022-07-31T22:31:37.727413Z",
          "iopub.status.idle": "2022-07-31T22:31:37.737452Z",
          "shell.execute_reply.started": "2022-07-31T22:31:37.727375Z",
          "shell.execute_reply": "2022-07-31T22:31:37.736414Z"
        },
        "trusted": true
      },
      "execution_count": null,
      "outputs": []
    },
    {
      "cell_type": "code",
      "source": [
        "from keras.models import load_model\n",
        "\n",
        "# When running as a python script \n",
        "model = load_model(\"PointNet_model.tf\", custom_objects={\"OrthogonalRegularizer\":OrthogonalRegularizer})\n",
        "\n",
        "# When running in Google Colab\n",
        "# model = load_model(\"/content/PointNet_model.tf\", custom_objects={\"OrthogonalRegularizer\":OrthogonalRegularizer})\n",
        "model.summary()\n",
        "\n",
        "\"\"\"\n",
        "THE CURRENT MODEL IS A POINTNET NEURAL NETWORK, PRE-TRAINED ON THE ModelNet10 DATASET.\n",
        "LINK TO THE IMPLEMENTATION: https://www.kaggle.com/code/devrajpriyadarshi/assesttag\n",
        "\"\"\""
      ],
      "metadata": {
        "id": "y21hDfX8yToa",
        "execution": {
          "iopub.status.busy": "2022-07-31T22:31:37.738509Z",
          "iopub.execute_input": "2022-07-31T22:31:37.738896Z",
          "iopub.status.idle": "2022-07-31T22:31:42.493533Z",
          "shell.execute_reply.started": "2022-07-31T22:31:37.738862Z",
          "shell.execute_reply": "2022-07-31T22:31:42.492315Z"
        },
        "trusted": true
      },
      "execution_count": null,
      "outputs": []
    },
    {
      "cell_type": "code",
      "source": [
        "CLASS_MAP = {0: 'monitor',\n",
        " 1: 'bathtub',\n",
        " 2: 'table',\n",
        " 3: 'dresser',\n",
        " 4: 'night_stand',\n",
        " 5: 'sofa',\n",
        " 6: 'bed',\n",
        " 7: 'toilet',\n",
        " 8: 'chair',\n",
        " 9: 'desk'}\n",
        "\n",
        "print(\"CLASS MAP:\", CLASS_MAP)"
      ],
      "metadata": {
        "execution": {
          "iopub.status.busy": "2022-07-31T22:31:42.495560Z",
          "iopub.execute_input": "2022-07-31T22:31:42.495918Z",
          "iopub.status.idle": "2022-07-31T22:31:42.503423Z",
          "shell.execute_reply.started": "2022-07-31T22:31:42.495887Z",
          "shell.execute_reply": "2022-07-31T22:31:42.502194Z"
        },
        "trusted": true,
        "id": "p2w-7Z8WV-dJ"
      },
      "execution_count": null,
      "outputs": []
    },
    {
      "cell_type": "code",
      "source": [
        "\"\"\"\n",
        "SINCE ASSESTS DOWNLOADED FROM NET WILL HAVE RANDOM ORIENTATION, THIS WAS INCLUDED TO \n",
        "WORK AS A ORIENTATION INVARIANT CLASSIFIER!\n",
        "\n",
        "THE INACCURARY DUE TO RANDOM ORIENTATION IS DUE TO THE LIMITATIONS OF THE \n",
        "NEURAL NETWORK ARCHITECTURE.\n",
        "\n",
        "THIS CAN BE FIXED BY IMPLEMENTING THE:\n",
        "\"Rotation Invariant Convolutions for 3D Point Clouds Deep Learning\"\n",
        "LINK : https://github.com/hkust-vgd/riconv\n",
        "\"\"\"\n",
        "\n",
        "\"\"\"\n",
        "PI = 3.14159265359\n",
        "rotX = transformations.rotation_matrix(PI/2, [1,0,0])\n",
        "rotY = transformations.rotation_matrix(PI/2, [0,1,0])\n",
        "rotZ = transformations.rotation_matrix(PI/2, [0,0,1])\n",
        "\n",
        "ROT = [\"I\", \"X\", \"Y\" ,\"XX\" ,\"XY\", \"YX\", \"YY\", \"XXX\", \"XXY\", \"XYX\", \"XYY\", \"YXX\", \"YYX\", \"YYY\", \"XXXY\", \"XXYX\", \"XXYY\", \"XYXX\", \"XYYY\", \"YXXX\", \"YYYX\", \"XXXYX\", \"XYXXX\", \"XYYYX\"]\n",
        "\n",
        "def predictModel(file_path):\n",
        "    max_score = 0\n",
        "    classId = 0\n",
        "    for r in ROT:\n",
        "        mesh = trimesh.load(file_path)\n",
        "        if r == \"I\":\n",
        "            points = mesh.sample(2048)\n",
        "            points = points[None ,:]\n",
        "            pred = model.predict(points)\n",
        "            score = max(max(pred))\n",
        "            print(CLASS_MAP[tf.math.argmax(pred, -1).numpy()[0]], score)\n",
        "            if score > max_score:\n",
        "                max_score = score\n",
        "                classID = tf.math.argmax(pred, -1).numpy()[0]\n",
        "        else:\n",
        "            for x in r:\n",
        "                if x == \"X\":\n",
        "                    mesh.apply_transform(rotX)\n",
        "                elif x == \"Y\":\n",
        "                    mesh.apply_transform(rotY)\n",
        "            points = mesh.sample(2048)\n",
        "            points = points[None ,:]\n",
        "            pred = model.predict(points)\n",
        "            score = max(max(pred))\n",
        "            print(CLASS_MAP[tf.math.argmax(pred, -1).numpy()[0]], score)\n",
        "            if score > max_score:\n",
        "                max_score = score\n",
        "                classID = tf.math.argmax(pred, -1).numpy()[0]\n",
        "                \n",
        "    return CLASS_MAP[classID], max_score\n",
        "\n",
        "\"\"\"\n",
        "            "
      ],
      "metadata": {
        "execution": {
          "iopub.status.busy": "2022-07-31T22:31:54.339164Z",
          "iopub.execute_input": "2022-07-31T22:31:54.340316Z",
          "iopub.status.idle": "2022-07-31T22:31:54.352508Z",
          "shell.execute_reply.started": "2022-07-31T22:31:54.340259Z",
          "shell.execute_reply": "2022-07-31T22:31:54.350979Z"
        },
        "trusted": true,
        "id": "uxOO9yg0V-dK"
      },
      "execution_count": null,
      "outputs": []
    },
    {
      "cell_type": "code",
      "source": [
        "def predictModelRotationVariant(file_path):\n",
        "\n",
        "    mesh = trimesh.load(file_path, force=\"mesh\")\n",
        "    trimesh.exchange.off.export_off(mesh)\n",
        "    points = mesh.sample(2048)\n",
        "    points = points[None, :]\n",
        "    pred = model.predict(points)\n",
        "    score = max(max(pred))\n",
        "    classID = tf.math.argmax(pred, -1).numpy()[0]\n",
        "            \n",
        "    return CLASS_MAP[classID], score"
      ],
      "metadata": {
        "execution": {
          "iopub.status.busy": "2022-08-01T00:39:43.355325Z",
          "iopub.execute_input": "2022-08-01T00:39:43.355765Z",
          "iopub.status.idle": "2022-08-01T00:39:43.363533Z",
          "shell.execute_reply.started": "2022-08-01T00:39:43.355729Z",
          "shell.execute_reply": "2022-08-01T00:39:43.361998Z"
        },
        "trusted": true,
        "id": "o2_x3WLeV-dM"
      },
      "execution_count": null,
      "outputs": []
    },
    {
      "cell_type": "code",
      "source": [
        "# When running as a python script \n",
        "fp3 = \"Models/Model4.ply\"\n",
        "\n",
        "# When running in Google Colab\n",
        "# fp3 = \"/content/Models/Model4.ply\"\n",
        "\n",
        "Class, Score = predictModelRotationVariant(fp3)\n",
        "print(\"\\nFinal :\", Class, Score)\n",
        "\n",
        "mesh = trimesh.load(fp3)\n",
        "mesh.show()"
      ],
      "metadata": {
        "execution": {
          "iopub.status.busy": "2022-08-01T00:08:48.398026Z",
          "iopub.execute_input": "2022-08-01T00:08:48.399053Z",
          "iopub.status.idle": "2022-08-01T00:08:48.552020Z",
          "shell.execute_reply.started": "2022-08-01T00:08:48.398998Z",
          "shell.execute_reply": "2022-08-01T00:08:48.550916Z"
        },
        "trusted": true,
        "id": "p-CAs47SV-dM"
      },
      "execution_count": null,
      "outputs": []
    },
    {
      "cell_type": "code",
      "source": [
        "# When running as a python script \n",
        "folder = \"Models/\"\n",
        "\n",
        "# When running in Google Colab\n",
        "# folder = \"/content/Models/\"\n",
        "\n",
        "data = []\n",
        "for count, filename in enumerate(os.listdir(folder)):\n",
        "    Class, Score = predictModelRotationVariant(folder + filename)\n",
        "    data.append([filename, Class])\n",
        "    \n",
        "Assets = pd.DataFrame(data, columns=['Model', 'Class'])\n",
        "Assets"
      ],
      "metadata": {
        "execution": {
          "iopub.status.busy": "2022-08-01T00:57:57.552863Z",
          "iopub.execute_input": "2022-08-01T00:57:57.554176Z",
          "iopub.status.idle": "2022-08-01T00:58:02.031952Z",
          "shell.execute_reply.started": "2022-08-01T00:57:57.554123Z",
          "shell.execute_reply": "2022-08-01T00:58:02.030597Z"
        },
        "trusted": true,
        "id": "5cQZl9JMV-dN"
      },
      "execution_count": null,
      "outputs": []
    },
    {
      "cell_type": "code",
      "source": [
        "Assets.to_csv(\"3D-Assets.csv\")"
      ],
      "metadata": {
        "execution": {
          "iopub.status.busy": "2022-08-01T00:58:05.543873Z",
          "iopub.execute_input": "2022-08-01T00:58:05.544325Z",
          "iopub.status.idle": "2022-08-01T00:58:05.552784Z",
          "shell.execute_reply.started": "2022-08-01T00:58:05.544285Z",
          "shell.execute_reply": "2022-08-01T00:58:05.551180Z"
        },
        "trusted": true,
        "id": "U3rRJXi3V-dN"
      },
      "execution_count": null,
      "outputs": []
    },
    {
      "cell_type": "code",
      "source": [
        ""
      ],
      "metadata": {
        "id": "65vMFpkFV-dO"
      },
      "execution_count": null,
      "outputs": []
    }
  ]
}